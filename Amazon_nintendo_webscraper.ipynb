{
  "nbformat": 4,
  "nbformat_minor": 0,
  "metadata": {
    "colab": {
      "provenance": []
    },
    "kernelspec": {
      "name": "python3",
      "display_name": "Python 3"
    },
    "language_info": {
      "name": "python"
    }
  },
  "cells": [
    {
      "cell_type": "code",
      "execution_count": 38,
      "metadata": {
        "colab": {
          "base_uri": "https://localhost:8080/"
        },
        "id": "ONBrYWcpxvAc",
        "outputId": "627b51ad-9e9d-4ecb-de82-b23e3911b9e9"
      },
      "outputs": [
        {
          "output_type": "stream",
          "name": "stdout",
          "text": [
            "Requirement already satisfied: bs4 in /usr/local/lib/python3.10/dist-packages (0.0.1)\n",
            "Requirement already satisfied: beautifulsoup4 in /usr/local/lib/python3.10/dist-packages (from bs4) (4.11.2)\n",
            "Requirement already satisfied: soupsieve>1.2 in /usr/local/lib/python3.10/dist-packages (from beautifulsoup4->bs4) (2.5)\n"
          ]
        }
      ],
      "source": [
        "!pip install bs4"
      ]
    },
    {
      "cell_type": "code",
      "source": [
        "!pip install requests"
      ],
      "metadata": {
        "colab": {
          "base_uri": "https://localhost:8080/"
        },
        "id": "yKNLVK-8x9Zg",
        "outputId": "8666cacc-b876-4729-a759-e02f86211b3f"
      },
      "execution_count": 39,
      "outputs": [
        {
          "output_type": "stream",
          "name": "stdout",
          "text": [
            "Requirement already satisfied: requests in /usr/local/lib/python3.10/dist-packages (2.31.0)\n",
            "Requirement already satisfied: charset-normalizer<4,>=2 in /usr/local/lib/python3.10/dist-packages (from requests) (3.3.2)\n",
            "Requirement already satisfied: idna<4,>=2.5 in /usr/local/lib/python3.10/dist-packages (from requests) (3.6)\n",
            "Requirement already satisfied: urllib3<3,>=1.21.1 in /usr/local/lib/python3.10/dist-packages (from requests) (2.0.7)\n",
            "Requirement already satisfied: certifi>=2017.4.17 in /usr/local/lib/python3.10/dist-packages (from requests) (2023.11.17)\n"
          ]
        }
      ]
    },
    {
      "cell_type": "code",
      "source": [
        "import pandas as pd\n",
        "import requests\n",
        "from bs4 import BeautifulSoup"
      ],
      "metadata": {
        "id": "MQruziw2x_bv"
      },
      "execution_count": 40,
      "outputs": []
    },
    {
      "cell_type": "code",
      "source": [
        "URL = \"https://www.amazon.in/s?k=nintendo+switch&crid=6B5X0A0FAG4X&sprefix=nin%2Caps%2C234&ref=nb_sb_ss_ts-doa-p_1_3\""
      ],
      "metadata": {
        "id": "Vsk010IYyKBA"
      },
      "execution_count": 41,
      "outputs": []
    },
    {
      "cell_type": "code",
      "source": [
        "Header = ({'User-Agent':'',\n",
        "           'Accept-Language':'en-US, en;q=0.5'})\n"
      ],
      "metadata": {
        "id": "VcyGsPNgzNnq"
      },
      "execution_count": 42,
      "outputs": []
    },
    {
      "cell_type": "code",
      "source": [
        "webpage = requests.get(URL, headers=Header)"
      ],
      "metadata": {
        "id": "62dSLf2e4kQY"
      },
      "execution_count": 43,
      "outputs": []
    },
    {
      "cell_type": "code",
      "source": [
        "type(webpage.content)"
      ],
      "metadata": {
        "colab": {
          "base_uri": "https://localhost:8080/"
        },
        "id": "0dq3JHuV4s9r",
        "outputId": "0f969cf9-0eb2-4635-f650-9af4af02313e"
      },
      "execution_count": 44,
      "outputs": [
        {
          "output_type": "execute_result",
          "data": {
            "text/plain": [
              "bytes"
            ]
          },
          "metadata": {},
          "execution_count": 44
        }
      ]
    },
    {
      "cell_type": "code",
      "source": [
        "soup = BeautifulSoup(webpage.content,\"html.parser\")"
      ],
      "metadata": {
        "id": "C1DQKEie5I7v"
      },
      "execution_count": 45,
      "outputs": []
    },
    {
      "cell_type": "code",
      "source": [
        "soup.prettify"
      ],
      "metadata": {
        "id": "R_iU8ZaH5T6R"
      },
      "execution_count": null,
      "outputs": []
    },
    {
      "cell_type": "code",
      "source": [
        "links = soup.find_all(\"a\", attrs = {'class':\"a-size-base a-link-normal s-underline-text s-underline-link-text s-link-style a-text-bold\"})"
      ],
      "metadata": {
        "id": "cwAuMsiK5Ujm"
      },
      "execution_count": 47,
      "outputs": []
    },
    {
      "cell_type": "code",
      "source": [
        "\n",
        "link_list = []\n",
        "\n",
        "for i in range(0,len(links)):\n",
        "  link_list.append(links[i].get('href'))"
      ],
      "metadata": {
        "id": "yQlvQbE16eOW"
      },
      "execution_count": 48,
      "outputs": []
    },
    {
      "cell_type": "code",
      "source": [
        "link_list"
      ],
      "metadata": {
        "colab": {
          "base_uri": "https://localhost:8080/"
        },
        "id": "Xf82sE957gpa",
        "outputId": "9393cb34-cde7-45f2-8e7d-25d12e17ed2e"
      },
      "execution_count": 49,
      "outputs": [
        {
          "output_type": "execute_result",
          "data": {
            "text/plain": [
              "['/Nintendo-Switch-OLED-model-Neon/dp/B098TNW7NM/ref=sr_1_1?crid=6B5X0A0FAG4X&keywords=nintendo+switch&qid=1703171708&sprefix=nin%2Caps%2C234&sr=8-1',\n",
              " '/Nintendo-Switch-neon-blue-Joy%E2%80%91/dp/B07WH14NYF/ref=sr_1_2?crid=6B5X0A0FAG4X&keywords=nintendo+switch&qid=1703171708&sprefix=nin%2Caps%2C234&sr=8-2',\n",
              " '/Nintendo-Switch-Lite-Gray/dp/B07XCQDFQS/ref=sr_1_3?crid=6B5X0A0FAG4X&keywords=nintendo+switch&qid=1703171708&sprefix=nin%2Caps%2C234&sr=8-3',\n",
              " '/Nintendo-Switch-Model-Legend-Kingdom/dp/B0BZK5M9TD/ref=sr_1_4?crid=6B5X0A0FAG4X&keywords=nintendo+switch&qid=1703171708&sprefix=nin%2Caps%2C234&sr=8-4',\n",
              " '/Nintendo-HACRAS8SA-Switch-Sports-Games/dp/B09KRK6C82/ref=sr_1_5?crid=6B5X0A0FAG4X&keywords=nintendo+switch&qid=1703171708&sprefix=nin%2Caps%2C234&sr=8-5',\n",
              " '/Nintendo-Blue-Neon-Yellow-Joy-Con/dp/B07VBB8S36/ref=sr_1_6?crid=6B5X0A0FAG4X&keywords=nintendo+switch&qid=1703171708&sprefix=nin%2Caps%2C234&sr=8-6',\n",
              " '/Nintendo-HDHSBBZAA-Switch-Lite-Blue-Console/dp/B092VT1JGD/ref=sr_1_7_mod_primary_new?crid=6B5X0A0FAG4X&keywords=nintendo+switch&qid=1703171708&sbo=RZvfv%2F%2FHxDF%2BO5021pAnSA%3D%3D&sprefix=nin%2Caps%2C234&sr=8-7',\n",
              " '/Nintendo-HDHSBBZAA-Switch-Lite-Blue-Console/dp/B092VT1JGD/ref=sr_1_7_mod_new?crid=6B5X0A0FAG4X&keywords=nintendo+switch&qid=1703171708&sbo=RZvfv%2F%2FHxDF%2BO5021pAnSA%3D%3D&sprefix=nin%2Caps%2C234&sr=8-7',\n",
              " '/Nintendo-1014272-Super-Odyssey-Switch/dp/B01MUA0D2A/ref=sr_1_8?crid=6B5X0A0FAG4X&keywords=nintendo+switch&qid=1703171708&sprefix=nin%2Caps%2C234&sr=8-8',\n",
              " '/Nintendo-Switch-Lite-Turquoise/dp/B07X98YH8F/ref=sr_1_9?crid=6B5X0A0FAG4X&keywords=nintendo+switch&qid=1703171708&sprefix=nin%2Caps%2C234&sr=8-9',\n",
              " '/Nintendo-Switch-OLED-Joy-Mario/dp/B0CHYYHS2R/ref=sr_1_10?crid=6B5X0A0FAG4X&keywords=nintendo+switch&qid=1703171708&sprefix=nin%2Caps%2C234&sr=8-10',\n",
              " '/Nintendo-10002294-Switch-Lite-Yellow/dp/B07SLM9772/ref=sr_1_11?crid=6B5X0A0FAG4X&keywords=nintendo+switch&qid=1703171708&sprefix=nin%2Caps%2C234&sr=8-11',\n",
              " '/Nintendo-Switch-Model-Mario-Console/dp/B09NCMZNJK/ref=sr_1_12?crid=6B5X0A0FAG4X&keywords=nintendo+switch&qid=1703171708&sprefix=nin%2Caps%2C234&sr=8-12',\n",
              " '/Nintendo-Switch-Lite-Yellow/dp/B07X6NMGZZ/ref=sr_1_13?crid=6B5X0A0FAG4X&keywords=nintendo+switch&qid=1703171708&sprefix=nin%2Caps%2C234&sr=8-13',\n",
              " '/OIVO-Carrying-Nintendo-Protable-Accessories/dp/B094N3HMKT/ref=sr_1_15?crid=6B5X0A0FAG4X&keywords=nintendo+switch&qid=1703171708&sprefix=nin%2Caps%2C234&sr=8-15',\n",
              " '/Super-Mario-Wonder-Nintendo-Switch/dp/B0C8VMMX8X/ref=sr_1_16?crid=6B5X0A0FAG4X&keywords=nintendo+switch&qid=1703171708&sprefix=nin%2Caps%2C234&sr=8-16']"
            ]
          },
          "metadata": {},
          "execution_count": 49
        }
      ]
    },
    {
      "cell_type": "code",
      "source": [
        "for i in range(len(link_list)):\n",
        "  link_list[i] = \"https://www.amazon.in\" + link_list[i]"
      ],
      "metadata": {
        "id": "NC2rlaUh75Xq"
      },
      "execution_count": 50,
      "outputs": []
    },
    {
      "cell_type": "code",
      "source": [
        "link_list"
      ],
      "metadata": {
        "colab": {
          "base_uri": "https://localhost:8080/"
        },
        "id": "TdRhY6P38QTS",
        "outputId": "3f621a8c-43b2-4558-f6ca-e6dbb99d55f5"
      },
      "execution_count": 51,
      "outputs": [
        {
          "output_type": "execute_result",
          "data": {
            "text/plain": [
              "['https://www.amazon.in/Nintendo-Switch-OLED-model-Neon/dp/B098TNW7NM/ref=sr_1_1?crid=6B5X0A0FAG4X&keywords=nintendo+switch&qid=1703171708&sprefix=nin%2Caps%2C234&sr=8-1',\n",
              " 'https://www.amazon.in/Nintendo-Switch-neon-blue-Joy%E2%80%91/dp/B07WH14NYF/ref=sr_1_2?crid=6B5X0A0FAG4X&keywords=nintendo+switch&qid=1703171708&sprefix=nin%2Caps%2C234&sr=8-2',\n",
              " 'https://www.amazon.in/Nintendo-Switch-Lite-Gray/dp/B07XCQDFQS/ref=sr_1_3?crid=6B5X0A0FAG4X&keywords=nintendo+switch&qid=1703171708&sprefix=nin%2Caps%2C234&sr=8-3',\n",
              " 'https://www.amazon.in/Nintendo-Switch-Model-Legend-Kingdom/dp/B0BZK5M9TD/ref=sr_1_4?crid=6B5X0A0FAG4X&keywords=nintendo+switch&qid=1703171708&sprefix=nin%2Caps%2C234&sr=8-4',\n",
              " 'https://www.amazon.in/Nintendo-HACRAS8SA-Switch-Sports-Games/dp/B09KRK6C82/ref=sr_1_5?crid=6B5X0A0FAG4X&keywords=nintendo+switch&qid=1703171708&sprefix=nin%2Caps%2C234&sr=8-5',\n",
              " 'https://www.amazon.in/Nintendo-Blue-Neon-Yellow-Joy-Con/dp/B07VBB8S36/ref=sr_1_6?crid=6B5X0A0FAG4X&keywords=nintendo+switch&qid=1703171708&sprefix=nin%2Caps%2C234&sr=8-6',\n",
              " 'https://www.amazon.in/Nintendo-HDHSBBZAA-Switch-Lite-Blue-Console/dp/B092VT1JGD/ref=sr_1_7_mod_primary_new?crid=6B5X0A0FAG4X&keywords=nintendo+switch&qid=1703171708&sbo=RZvfv%2F%2FHxDF%2BO5021pAnSA%3D%3D&sprefix=nin%2Caps%2C234&sr=8-7',\n",
              " 'https://www.amazon.in/Nintendo-HDHSBBZAA-Switch-Lite-Blue-Console/dp/B092VT1JGD/ref=sr_1_7_mod_new?crid=6B5X0A0FAG4X&keywords=nintendo+switch&qid=1703171708&sbo=RZvfv%2F%2FHxDF%2BO5021pAnSA%3D%3D&sprefix=nin%2Caps%2C234&sr=8-7',\n",
              " 'https://www.amazon.in/Nintendo-1014272-Super-Odyssey-Switch/dp/B01MUA0D2A/ref=sr_1_8?crid=6B5X0A0FAG4X&keywords=nintendo+switch&qid=1703171708&sprefix=nin%2Caps%2C234&sr=8-8',\n",
              " 'https://www.amazon.in/Nintendo-Switch-Lite-Turquoise/dp/B07X98YH8F/ref=sr_1_9?crid=6B5X0A0FAG4X&keywords=nintendo+switch&qid=1703171708&sprefix=nin%2Caps%2C234&sr=8-9',\n",
              " 'https://www.amazon.in/Nintendo-Switch-OLED-Joy-Mario/dp/B0CHYYHS2R/ref=sr_1_10?crid=6B5X0A0FAG4X&keywords=nintendo+switch&qid=1703171708&sprefix=nin%2Caps%2C234&sr=8-10',\n",
              " 'https://www.amazon.in/Nintendo-10002294-Switch-Lite-Yellow/dp/B07SLM9772/ref=sr_1_11?crid=6B5X0A0FAG4X&keywords=nintendo+switch&qid=1703171708&sprefix=nin%2Caps%2C234&sr=8-11',\n",
              " 'https://www.amazon.in/Nintendo-Switch-Model-Mario-Console/dp/B09NCMZNJK/ref=sr_1_12?crid=6B5X0A0FAG4X&keywords=nintendo+switch&qid=1703171708&sprefix=nin%2Caps%2C234&sr=8-12',\n",
              " 'https://www.amazon.in/Nintendo-Switch-Lite-Yellow/dp/B07X6NMGZZ/ref=sr_1_13?crid=6B5X0A0FAG4X&keywords=nintendo+switch&qid=1703171708&sprefix=nin%2Caps%2C234&sr=8-13',\n",
              " 'https://www.amazon.in/OIVO-Carrying-Nintendo-Protable-Accessories/dp/B094N3HMKT/ref=sr_1_15?crid=6B5X0A0FAG4X&keywords=nintendo+switch&qid=1703171708&sprefix=nin%2Caps%2C234&sr=8-15',\n",
              " 'https://www.amazon.in/Super-Mario-Wonder-Nintendo-Switch/dp/B0C8VMMX8X/ref=sr_1_16?crid=6B5X0A0FAG4X&keywords=nintendo+switch&qid=1703171708&sprefix=nin%2Caps%2C234&sr=8-16']"
            ]
          },
          "metadata": {},
          "execution_count": 51
        }
      ]
    },
    {
      "cell_type": "code",
      "source": [
        "new_webpages = requests.get(link_list[0],headers = Header)"
      ],
      "metadata": {
        "id": "G-y3GGFo8fj2"
      },
      "execution_count": 55,
      "outputs": []
    },
    {
      "cell_type": "code",
      "source": [
        "new_webpages"
      ],
      "metadata": {
        "colab": {
          "base_uri": "https://localhost:8080/"
        },
        "id": "Jto5zaPd9vPF",
        "outputId": "79b4001e-090e-457b-e75e-18ede06a5448"
      },
      "execution_count": 56,
      "outputs": [
        {
          "output_type": "execute_result",
          "data": {
            "text/plain": [
              "<Response [200]>"
            ]
          },
          "metadata": {},
          "execution_count": 56
        }
      ]
    },
    {
      "cell_type": "code",
      "source": [
        "new_soup = BeautifulSoup(new_webpages.content,'html.parser')"
      ],
      "metadata": {
        "id": "tbSZu9n8-IBN"
      },
      "execution_count": 57,
      "outputs": []
    },
    {
      "cell_type": "code",
      "source": [
        "new_soup.find('i', attrs={'class':\"a-icon a-icon-star a-star-4-5 cm-cr-review-stars-spacing-big\"}).text.strip()"
      ],
      "metadata": {
        "colab": {
          "base_uri": "https://localhost:8080/",
          "height": 35
        },
        "id": "I67bfsNW-Qih",
        "outputId": "030d1546-35ad-4c0a-ad78-c778075dfde4"
      },
      "execution_count": 59,
      "outputs": [
        {
          "output_type": "execute_result",
          "data": {
            "text/plain": [
              "'4.6 out of 5 stars'"
            ],
            "application/vnd.google.colaboratory.intrinsic+json": {
              "type": "string"
            }
          },
          "metadata": {},
          "execution_count": 59
        }
      ]
    },
    {
      "cell_type": "code",
      "source": [
        "new_soup.find('span',attrs={'id':\"productTitle\"}).text.strip()"
      ],
      "metadata": {
        "colab": {
          "base_uri": "https://localhost:8080/",
          "height": 35
        },
        "id": "dEak4GXN_son",
        "outputId": "184832b8-7434-4300-dca9-4555496aaf9e"
      },
      "execution_count": 61,
      "outputs": [
        {
          "output_type": "execute_result",
          "data": {
            "text/plain": [
              "'Nintendo Switch OLED model With Neon Red & Neon Blue Joy-Con'"
            ],
            "application/vnd.google.colaboratory.intrinsic+json": {
              "type": "string"
            }
          },
          "metadata": {},
          "execution_count": 61
        }
      ]
    },
    {
      "cell_type": "code",
      "source": [],
      "metadata": {
        "id": "VDzWDFV5BFPI"
      },
      "execution_count": null,
      "outputs": []
    },
    {
      "cell_type": "markdown",
      "source": [
        "# Amazon web scaraper"
      ],
      "metadata": {
        "id": "x8NjGaLWBCSs"
      }
    },
    {
      "cell_type": "code",
      "source": [
        "from bs4 import BeautifulSoup\n",
        "import requests\n",
        "import pandas as pd\n",
        "import numpy as np"
      ],
      "metadata": {
        "id": "5jcSB5KsBKZS"
      },
      "execution_count": 62,
      "outputs": []
    },
    {
      "cell_type": "code",
      "source": [
        "def get_title(soup):\n",
        "\n",
        "  try:\n",
        "    title_string = soup.find('span',attrs={'id':\"productTitle\"}).text.strip()\n",
        "\n",
        "  except AttributeError:\n",
        "    title_string = ''\n",
        "\n",
        "  return title_string\n",
        "\n",
        "def get_ratings(soup):\n",
        "  try:\n",
        "    ratings_string = soup.find('i', attrs={'class':\"a-icon a-icon-star a-star-4-5 cm-cr-review-stars-spacing-big\"}).text.strip()\n",
        "\n",
        "  except AttributeError:\n",
        "    ratings_string=''\n",
        "\n",
        "  return ratings_string\n",
        "\n",
        "def get_price(soup):\n",
        "  try:\n",
        "    price = soup.find('span',attrs={'class':\"a-price-whole\"}).text.strip()\n",
        "  except AttributeError:\n",
        "    prince_int = ''\n",
        "\n",
        "  return price\n",
        "\n",
        "def get_review_count(soup):\n",
        "    try:\n",
        "        review_count = soup.find(\"span\", attrs={'id':'acrCustomerReviewText'}).text.strip()\n",
        "\n",
        "    except AttributeError:\n",
        "        review_count = \"\"\n",
        "\n",
        "    return review_count\n"
      ],
      "metadata": {
        "id": "x_kcHO6oBOK8"
      },
      "execution_count": 63,
      "outputs": []
    },
    {
      "cell_type": "code",
      "source": [
        "if __name__ == '__main__':\n",
        "  Header = ({'User-Agent':'',\n",
        "           'Accept-Language':'en-US, en;q=0.5'})\n",
        "\n",
        "  URL = \"https://www.amazon.in/s?k=nintendo+switch&crid=6B5X0A0FAG4X&sprefix=nin%2Caps%2C234&ref=nb_sb_ss_ts-doa-p_1_3\"\n",
        "\n",
        "  webpage = requests.get(URL, headers=Header)\n",
        "\n",
        "  soup = BeautifulSoup(webpage.content, \"html.parser\")\n",
        "\n",
        "  links = soup.find_all(\"a\", attrs = {'class':\"a-size-base a-link-normal s-underline-text s-underline-link-text s-link-style a-text-bold\"})\n",
        "\n",
        "  link_list = []\n",
        "\n",
        "  for i in range(0,len(links)):\n",
        "    link_list.append(links[i].get('href'))\n",
        "\n",
        "  for _ in range(len(link_list)):\n",
        "    link_list[_] = \"https://www.amazon.in\" + link_list[_]\n",
        "\n",
        "  dictionary_data = {\"title\":[], \"price\":[], \"rating\":[], \"reviews\":[],\"availability\":[]}\n",
        "\n",
        "  for link in link_list:\n",
        "    web_page_r = requests.get(link,headers= Header)\n",
        "    new_soup = BeautifulSoup(web_page_r.content, 'html.parser')\n",
        "\n",
        "    dictionary_data['title'].append(get_title(new_soup))\n",
        "    dictionary_data['price'].append(get_price(new_soup))\n",
        "    dictionary_data['rating'].append(get_ratings(new_soup))\n",
        "    dictionary_data['reviews'].append(get_review_count(new_soup))\n"
      ],
      "metadata": {
        "id": "yEUaeTClDguX"
      },
      "execution_count": 84,
      "outputs": []
    },
    {
      "cell_type": "code",
      "source": [
        "dictionary_data['title']"
      ],
      "metadata": {
        "colab": {
          "base_uri": "https://localhost:8080/"
        },
        "id": "ZsERg8NUHXpM",
        "outputId": "1ca06829-3ef8-4d94-eb2f-16a50a9aa1f9"
      },
      "execution_count": 67,
      "outputs": [
        {
          "output_type": "execute_result",
          "data": {
            "text/plain": [
              "['Nintendo Switch OLED model With Neon Red & Neon Blue Joy-Con',\n",
              " 'Nintendo Switch Version 2 with Joy-Con - Neon Blue and Red',\n",
              " 'Nintendo Switch Lite - Grey',\n",
              " 'Nintendo Switch - OLED Model - The Legend of Zelda: Tears of the Kingdom Edition',\n",
              " 'Nintendo Switch Sports',\n",
              " 'Nintendo Switch Blue/Neon Yellow Joy-Con',\n",
              " 'Nintendo Switch Lite - Blue',\n",
              " 'Nintendo Switch Lite - Blue',\n",
              " 'Nintendo Switch Super Mario Odyssey',\n",
              " 'Nintendo Switch OLED with Joy-Con - Mario Red Edition',\n",
              " 'Nintendo Switch Lite - Yellow',\n",
              " 'Nintendo Switch Lite - Turquoise',\n",
              " 'Nintendo Switch - OLED Model: Mario Red Edition Console',\n",
              " 'Nintendo Switch Lite - Yellow',\n",
              " 'OIVO Switch Carrying Case for Nintendo Switch OLED Mode, Protable Travel Case Cover with Game Card Slots, Upgraded Console Stand Holder for Nintendo Switch/Switch OLED Accessories',\n",
              " 'Super Mario Bros Wonder Nintendo Switch']"
            ]
          },
          "metadata": {},
          "execution_count": 67
        }
      ]
    },
    {
      "cell_type": "code",
      "source": [
        "dictionary_data['price']"
      ],
      "metadata": {
        "colab": {
          "base_uri": "https://localhost:8080/"
        },
        "id": "GzPgqRqXGveV",
        "outputId": "b78b47e8-3cd1-4da1-d34b-7ac5ca622df2"
      },
      "execution_count": 68,
      "outputs": [
        {
          "output_type": "execute_result",
          "data": {
            "text/plain": [
              "['4,288.',\n",
              " '31,990.',\n",
              " '18,470.',\n",
              " '35,999.',\n",
              " '4,299.',\n",
              " '7,499.',\n",
              " '18,400.',\n",
              " '18,400.',\n",
              " '4,499.',\n",
              " '29,999.',\n",
              " '17,099.',\n",
              " '18,799.',\n",
              " '33,990.',\n",
              " '17,099.',\n",
              " '1,451.',\n",
              " '5,390.']"
            ]
          },
          "metadata": {},
          "execution_count": 68
        }
      ]
    },
    {
      "cell_type": "code",
      "source": [
        "dictionary_data['rating']"
      ],
      "metadata": {
        "colab": {
          "base_uri": "https://localhost:8080/"
        },
        "id": "mBJGaxZkHfVI",
        "outputId": "b124d5db-d1d5-40cf-aeae-d9ae7eed3cdc"
      },
      "execution_count": 69,
      "outputs": [
        {
          "output_type": "execute_result",
          "data": {
            "text/plain": [
              "['4.6 out of 5 stars',\n",
              " '4.4 out of 5 stars',\n",
              " '4.7 out of 5 stars',\n",
              " '',\n",
              " '4.7 out of 5 stars',\n",
              " '',\n",
              " '4.7 out of 5 stars',\n",
              " '4.7 out of 5 stars',\n",
              " '4.6 out of 5 stars',\n",
              " '4.7 out of 5 stars',\n",
              " '4.7 out of 5 stars',\n",
              " '4.6 out of 5 stars',\n",
              " '4.6 out of 5 stars',\n",
              " '4.4 out of 5 stars',\n",
              " '4.7 out of 5 stars',\n",
              " '']"
            ]
          },
          "metadata": {},
          "execution_count": 69
        }
      ]
    },
    {
      "cell_type": "code",
      "source": [
        "dictionary_data['reviews']"
      ],
      "metadata": {
        "colab": {
          "base_uri": "https://localhost:8080/"
        },
        "id": "gkPoG-1GHoEd",
        "outputId": "2b2ebf55-01b3-4341-a75a-4316c59ea76b"
      },
      "execution_count": 70,
      "outputs": [
        {
          "output_type": "execute_result",
          "data": {
            "text/plain": [
              "['3,415 ratings',\n",
              " '586 ratings',\n",
              " '192 ratings',\n",
              " '5,104 ratings',\n",
              " '9,811 ratings',\n",
              " '13,189 ratings',\n",
              " '8,150 ratings',\n",
              " '8,150 ratings',\n",
              " '19,213 ratings',\n",
              " '4 ratings',\n",
              " '2,980 ratings',\n",
              " '236 ratings',\n",
              " '104 ratings',\n",
              " '105 ratings',\n",
              " '454 ratings',\n",
              " '1,016 ratings']"
            ]
          },
          "metadata": {},
          "execution_count": 70
        }
      ]
    },
    {
      "cell_type": "code",
      "source": [
        "print(len(dictionary_data['title']))\n",
        "print(len(dictionary_data['price']))\n",
        "print(len(dictionary_data['rating']))\n",
        "print(len(dictionary_data['reviews']))\n"
      ],
      "metadata": {
        "colab": {
          "base_uri": "https://localhost:8080/"
        },
        "id": "5KLMrNc1Hq8p",
        "outputId": "c739fea9-9d70-4240-9c78-f52e4114b531"
      },
      "execution_count": 71,
      "outputs": [
        {
          "output_type": "stream",
          "name": "stdout",
          "text": [
            "16\n",
            "16\n",
            "16\n",
            "16\n"
          ]
        }
      ]
    },
    {
      "cell_type": "code",
      "source": [
        "for key, value in dictionary_data.items():\n",
        "    if not all(isinstance(item, (str, float, int)) for item in value):\n",
        "        print(f\"Non-standard data found in {key}: {value}\")\n",
        "    if any(isinstance(item, list) for item in value):\n",
        "        print(f\"Nested list found in {key}\")\n"
      ],
      "metadata": {
        "id": "H0mEKFiIK8yJ"
      },
      "execution_count": 80,
      "outputs": []
    },
    {
      "cell_type": "code",
      "source": [
        "# Start with one column\n",
        "df = pd.DataFrame({'title': dictionary_data['title']})\n",
        "df['price'] = dictionary_data['price']\n",
        "df['rating'] = dictionary_data['rating']\n",
        "df['reviews'] = dictionary_data['reviews']\n",
        "print(df)\n"
      ],
      "metadata": {
        "colab": {
          "base_uri": "https://localhost:8080/"
        },
        "id": "PzF5i4N2LQgf",
        "outputId": "d2ecec79-253a-4478-f816-600d497e7055"
      },
      "execution_count": 83,
      "outputs": [
        {
          "output_type": "stream",
          "name": "stdout",
          "text": [
            "                                                title    price  \\\n",
            "0   Nintendo Switch OLED model With Neon Red & Neo...   4,288.   \n",
            "1   Nintendo Switch Version 2 with Joy-Con - Neon ...  31,990.   \n",
            "2                         Nintendo Switch Lite - Grey  18,470.   \n",
            "3   Nintendo Switch - OLED Model - The Legend of Z...  35,999.   \n",
            "4                              Nintendo Switch Sports   4,299.   \n",
            "5            Nintendo Switch Blue/Neon Yellow Joy-Con   7,499.   \n",
            "6                         Nintendo Switch Lite - Blue  18,400.   \n",
            "7                         Nintendo Switch Lite - Blue  18,400.   \n",
            "8                 Nintendo Switch Super Mario Odyssey   4,499.   \n",
            "9   Nintendo Switch OLED with Joy-Con - Mario Red ...  29,999.   \n",
            "10                      Nintendo Switch Lite - Yellow  17,099.   \n",
            "11                   Nintendo Switch Lite - Turquoise  18,799.   \n",
            "12  Nintendo Switch - OLED Model: Mario Red Editio...  33,990.   \n",
            "13                      Nintendo Switch Lite - Yellow  17,099.   \n",
            "14  OIVO Switch Carrying Case for Nintendo Switch ...   1,451.   \n",
            "15            Super Mario Bros Wonder Nintendo Switch   5,390.   \n",
            "\n",
            "                rating         reviews  \n",
            "0   4.6 out of 5 stars   3,415 ratings  \n",
            "1   4.4 out of 5 stars     586 ratings  \n",
            "2   4.7 out of 5 stars     192 ratings  \n",
            "3                        5,104 ratings  \n",
            "4   4.7 out of 5 stars   9,811 ratings  \n",
            "5                       13,189 ratings  \n",
            "6   4.7 out of 5 stars   8,150 ratings  \n",
            "7   4.7 out of 5 stars   8,150 ratings  \n",
            "8   4.6 out of 5 stars  19,213 ratings  \n",
            "9   4.7 out of 5 stars       4 ratings  \n",
            "10  4.7 out of 5 stars   2,980 ratings  \n",
            "11  4.6 out of 5 stars     236 ratings  \n",
            "12  4.6 out of 5 stars     104 ratings  \n",
            "13  4.4 out of 5 stars     105 ratings  \n",
            "14  4.7 out of 5 stars     454 ratings  \n",
            "15                       1,016 ratings  \n"
          ]
        }
      ]
    }
  ]
}